{
 "cells": [
  {
   "cell_type": "markdown",
   "metadata": {},
   "source": [
    "# REFERENCE VALUES FOR FINGERTIP UNIT IN THE APPLICATION OF TOPICAL MEDICATIONS"
   ]
  },
  {
   "cell_type": "code",
   "execution_count": 25,
   "metadata": {},
   "outputs": [],
   "source": [
    "#Importing Necessary libraries to be used for the project\n",
    "import pandas as pd\n",
    "import numpy as py\n",
    "import matplotlib.pyplot as plt\n",
    "import matplotlib.style\n",
    "import seaborn as sns\n",
    "import statsmodels.api as sm\n",
    "import warnings \n",
    "warnings.simplefilter('ignore')\n",
    "from sklearn.preprocessing import LabelEncoder\n",
    "from scipy import stats\n",
    "from sklearn.model_selection import train_test_split\n",
    "from statsmodels.tools.eval_measures import mse\n",
    "from sklearn.metrics import mean_absolute_error\n",
    "from scipy.stats import ttest_rel\n",
    "from scipy.stats import pearsonr\n",
    "from scipy.stats import spearmanr\n",
    "from scipy.stats import shapiro\n",
    "import  statsmodels.stats.multicomp as multi"
   ]
  },
  {
   "cell_type": "code",
   "execution_count": 26,
   "metadata": {},
   "outputs": [
    {
     "data": {
      "text/html": [
       "<div>\n",
       "<style scoped>\n",
       "    .dataframe tbody tr th:only-of-type {\n",
       "        vertical-align: middle;\n",
       "    }\n",
       "\n",
       "    .dataframe tbody tr th {\n",
       "        vertical-align: top;\n",
       "    }\n",
       "\n",
       "    .dataframe thead th {\n",
       "        text-align: right;\n",
       "    }\n",
       "</style>\n",
       "<table border=\"1\" class=\"dataframe\">\n",
       "  <thead>\n",
       "    <tr style=\"text-align: right;\">\n",
       "      <th></th>\n",
       "      <th>groups</th>\n",
       "      <th>sex</th>\n",
       "      <th>age</th>\n",
       "      <th>height</th>\n",
       "      <th>weight</th>\n",
       "      <th>arm</th>\n",
       "      <th>forearm</th>\n",
       "      <th>wrist</th>\n",
       "      <th>lowback</th>\n",
       "      <th>thigh</th>\n",
       "      <th>knee</th>\n",
       "      <th>ankle</th>\n",
       "      <th>somatotype</th>\n",
       "      <th>ftu</th>\n",
       "    </tr>\n",
       "  </thead>\n",
       "  <tbody>\n",
       "    <tr>\n",
       "      <th>0</th>\n",
       "      <td>11-20</td>\n",
       "      <td>Female</td>\n",
       "      <td>21</td>\n",
       "      <td>158.0</td>\n",
       "      <td>49</td>\n",
       "      <td>24.0</td>\n",
       "      <td>21.5</td>\n",
       "      <td>14.0</td>\n",
       "      <td>66.0</td>\n",
       "      <td>45.0</td>\n",
       "      <td>33.0</td>\n",
       "      <td>23.0</td>\n",
       "      <td>11.29</td>\n",
       "      <td>2.6</td>\n",
       "    </tr>\n",
       "    <tr>\n",
       "      <th>1</th>\n",
       "      <td>11-20</td>\n",
       "      <td>Female</td>\n",
       "      <td>21</td>\n",
       "      <td>153.0</td>\n",
       "      <td>39</td>\n",
       "      <td>21.5</td>\n",
       "      <td>21.0</td>\n",
       "      <td>14.0</td>\n",
       "      <td>62.0</td>\n",
       "      <td>44.0</td>\n",
       "      <td>31.0</td>\n",
       "      <td>21.0</td>\n",
       "      <td>11.93</td>\n",
       "      <td>2.6</td>\n",
       "    </tr>\n",
       "  </tbody>\n",
       "</table>\n",
       "</div>"
      ],
      "text/plain": [
       "  groups     sex  age  height  weight   arm  forearm  wrist  lowback  thigh  \\\n",
       "0  11-20  Female   21   158.0      49  24.0     21.5   14.0     66.0   45.0   \n",
       "1  11-20  Female   21   153.0      39  21.5     21.0   14.0     62.0   44.0   \n",
       "\n",
       "   knee  ankle  somatotype  ftu  \n",
       "0  33.0   23.0       11.29  2.6  \n",
       "1  31.0   21.0       11.93  2.6  "
      ]
     },
     "execution_count": 26,
     "metadata": {},
     "output_type": "execute_result"
    }
   ],
   "source": [
    "#Calling the data from excel directory and displaying the top 2 rows\n",
    "ftu=pd.read_excel('ALL GROUPS.xlsx')\n",
    "ftu.head(2)"
   ]
  },
  {
   "cell_type": "code",
   "execution_count": 4,
   "metadata": {},
   "outputs": [
    {
     "name": "stdout",
     "output_type": "stream",
     "text": [
      "The data shape is  (600, 14)\n",
      "The data size is  8400\n"
     ]
    }
   ],
   "source": [
    "#Displaying the shape and size of the data\n",
    "shape, size=ftu.shape, ftu.size\n",
    "print('The data shape is ', shape)  # 600 rows and 14 columns\n",
    "print('The data size is ', size)    # 8400 obeservations"
   ]
  },
  {
   "cell_type": "code",
   "execution_count": 65,
   "metadata": {},
   "outputs": [
    {
     "data": {
      "text/plain": [
       "groups            object\n",
       "sex               object\n",
       "age                int64\n",
       "height           float64\n",
       "weight             int64\n",
       "arm              float64\n",
       "forearm          float64\n",
       "wrist            float64\n",
       "lowback          float64\n",
       "thigh            float64\n",
       "knee             float64\n",
       "ankle            float64\n",
       "somatotype       float64\n",
       "ftu              float64\n",
       "bmi              float64\n",
       "height_meters    float64\n",
       "dtype: object"
      ]
     },
     "execution_count": 65,
     "metadata": {},
     "output_type": "execute_result"
    }
   ],
   "source": [
    "# Checking the data structure of the data\n",
    "ftu.dtypes"
   ]
  },
  {
   "cell_type": "code",
   "execution_count": 5,
   "metadata": {},
   "outputs": [
    {
     "data": {
      "text/html": [
       "<div>\n",
       "<style scoped>\n",
       "    .dataframe tbody tr th:only-of-type {\n",
       "        vertical-align: middle;\n",
       "    }\n",
       "\n",
       "    .dataframe tbody tr th {\n",
       "        vertical-align: top;\n",
       "    }\n",
       "\n",
       "    .dataframe thead th {\n",
       "        text-align: right;\n",
       "    }\n",
       "</style>\n",
       "<table border=\"1\" class=\"dataframe\">\n",
       "  <thead>\n",
       "    <tr style=\"text-align: right;\">\n",
       "      <th></th>\n",
       "      <th>age</th>\n",
       "      <th>height</th>\n",
       "      <th>weight</th>\n",
       "      <th>arm</th>\n",
       "      <th>forearm</th>\n",
       "      <th>wrist</th>\n",
       "      <th>lowback</th>\n",
       "      <th>thigh</th>\n",
       "      <th>knee</th>\n",
       "      <th>ankle</th>\n",
       "      <th>somatotype</th>\n",
       "      <th>ftu</th>\n",
       "    </tr>\n",
       "  </thead>\n",
       "  <tbody>\n",
       "    <tr>\n",
       "      <th>count</th>\n",
       "      <td>600.00000</td>\n",
       "      <td>600.000000</td>\n",
       "      <td>600.000000</td>\n",
       "      <td>600.000000</td>\n",
       "      <td>600.000000</td>\n",
       "      <td>600.000000</td>\n",
       "      <td>600.000000</td>\n",
       "      <td>600.00000</td>\n",
       "      <td>600.000000</td>\n",
       "      <td>600.000000</td>\n",
       "      <td>600.000000</td>\n",
       "      <td>599.000000</td>\n",
       "    </tr>\n",
       "    <tr>\n",
       "      <th>mean</th>\n",
       "      <td>40.25500</td>\n",
       "      <td>164.480333</td>\n",
       "      <td>64.256667</td>\n",
       "      <td>28.093667</td>\n",
       "      <td>25.355000</td>\n",
       "      <td>16.048000</td>\n",
       "      <td>80.818667</td>\n",
       "      <td>49.72700</td>\n",
       "      <td>36.246167</td>\n",
       "      <td>22.797500</td>\n",
       "      <td>10.876367</td>\n",
       "      <td>2.474457</td>\n",
       "    </tr>\n",
       "    <tr>\n",
       "      <th>std</th>\n",
       "      <td>16.70744</td>\n",
       "      <td>9.227290</td>\n",
       "      <td>14.325134</td>\n",
       "      <td>13.180999</td>\n",
       "      <td>8.540684</td>\n",
       "      <td>2.469425</td>\n",
       "      <td>14.412873</td>\n",
       "      <td>8.58044</td>\n",
       "      <td>3.719728</td>\n",
       "      <td>2.319967</td>\n",
       "      <td>1.044498</td>\n",
       "      <td>0.322405</td>\n",
       "    </tr>\n",
       "    <tr>\n",
       "      <th>min</th>\n",
       "      <td>11.00000</td>\n",
       "      <td>116.000000</td>\n",
       "      <td>31.000000</td>\n",
       "      <td>13.500000</td>\n",
       "      <td>18.500000</td>\n",
       "      <td>11.500000</td>\n",
       "      <td>25.600000</td>\n",
       "      <td>5.40000</td>\n",
       "      <td>21.000000</td>\n",
       "      <td>2.500000</td>\n",
       "      <td>2.560000</td>\n",
       "      <td>1.500000</td>\n",
       "    </tr>\n",
       "    <tr>\n",
       "      <th>25%</th>\n",
       "      <td>23.75000</td>\n",
       "      <td>158.000000</td>\n",
       "      <td>54.000000</td>\n",
       "      <td>24.500000</td>\n",
       "      <td>23.000000</td>\n",
       "      <td>15.000000</td>\n",
       "      <td>71.500000</td>\n",
       "      <td>44.00000</td>\n",
       "      <td>34.000000</td>\n",
       "      <td>21.500000</td>\n",
       "      <td>9.880000</td>\n",
       "      <td>2.300000</td>\n",
       "    </tr>\n",
       "    <tr>\n",
       "      <th>50%</th>\n",
       "      <td>41.00000</td>\n",
       "      <td>164.500000</td>\n",
       "      <td>62.000000</td>\n",
       "      <td>27.000000</td>\n",
       "      <td>25.000000</td>\n",
       "      <td>16.000000</td>\n",
       "      <td>76.850000</td>\n",
       "      <td>48.25000</td>\n",
       "      <td>36.000000</td>\n",
       "      <td>22.500000</td>\n",
       "      <td>11.235000</td>\n",
       "      <td>2.500000</td>\n",
       "    </tr>\n",
       "    <tr>\n",
       "      <th>75%</th>\n",
       "      <td>55.00000</td>\n",
       "      <td>171.000000</td>\n",
       "      <td>72.250000</td>\n",
       "      <td>29.500000</td>\n",
       "      <td>26.500000</td>\n",
       "      <td>16.725000</td>\n",
       "      <td>87.925000</td>\n",
       "      <td>54.00000</td>\n",
       "      <td>38.000000</td>\n",
       "      <td>24.000000</td>\n",
       "      <td>11.550000</td>\n",
       "      <td>2.700000</td>\n",
       "    </tr>\n",
       "    <tr>\n",
       "      <th>max</th>\n",
       "      <td>71.00000</td>\n",
       "      <td>194.000000</td>\n",
       "      <td>119.000000</td>\n",
       "      <td>333.100000</td>\n",
       "      <td>222.700000</td>\n",
       "      <td>68.000000</td>\n",
       "      <td>129.000000</td>\n",
       "      <td>84.00000</td>\n",
       "      <td>51.000000</td>\n",
       "      <td>36.500000</td>\n",
       "      <td>12.870000</td>\n",
       "      <td>3.400000</td>\n",
       "    </tr>\n",
       "  </tbody>\n",
       "</table>\n",
       "</div>"
      ],
      "text/plain": [
       "             age      height      weight         arm     forearm       wrist  \\\n",
       "count  600.00000  600.000000  600.000000  600.000000  600.000000  600.000000   \n",
       "mean    40.25500  164.480333   64.256667   28.093667   25.355000   16.048000   \n",
       "std     16.70744    9.227290   14.325134   13.180999    8.540684    2.469425   \n",
       "min     11.00000  116.000000   31.000000   13.500000   18.500000   11.500000   \n",
       "25%     23.75000  158.000000   54.000000   24.500000   23.000000   15.000000   \n",
       "50%     41.00000  164.500000   62.000000   27.000000   25.000000   16.000000   \n",
       "75%     55.00000  171.000000   72.250000   29.500000   26.500000   16.725000   \n",
       "max     71.00000  194.000000  119.000000  333.100000  222.700000   68.000000   \n",
       "\n",
       "          lowback      thigh        knee       ankle  somatotype         ftu  \n",
       "count  600.000000  600.00000  600.000000  600.000000  600.000000  599.000000  \n",
       "mean    80.818667   49.72700   36.246167   22.797500   10.876367    2.474457  \n",
       "std     14.412873    8.58044    3.719728    2.319967    1.044498    0.322405  \n",
       "min     25.600000    5.40000   21.000000    2.500000    2.560000    1.500000  \n",
       "25%     71.500000   44.00000   34.000000   21.500000    9.880000    2.300000  \n",
       "50%     76.850000   48.25000   36.000000   22.500000   11.235000    2.500000  \n",
       "75%     87.925000   54.00000   38.000000   24.000000   11.550000    2.700000  \n",
       "max    129.000000   84.00000   51.000000   36.500000   12.870000    3.400000  "
      ]
     },
     "execution_count": 5,
     "metadata": {},
     "output_type": "execute_result"
    }
   ],
   "source": [
    "# Brief summary of the whole data\n",
    "ftu.describe()"
   ]
  },
  {
   "cell_type": "markdown",
   "metadata": {},
   "source": [
    "#### Calculating BMI- weight divide height_square"
   ]
  },
  {
   "cell_type": "code",
   "execution_count": 19,
   "metadata": {},
   "outputs": [
    {
     "data": {
      "text/html": [
       "<div>\n",
       "<style scoped>\n",
       "    .dataframe tbody tr th:only-of-type {\n",
       "        vertical-align: middle;\n",
       "    }\n",
       "\n",
       "    .dataframe tbody tr th {\n",
       "        vertical-align: top;\n",
       "    }\n",
       "\n",
       "    .dataframe thead th {\n",
       "        text-align: right;\n",
       "    }\n",
       "</style>\n",
       "<table border=\"1\" class=\"dataframe\">\n",
       "  <thead>\n",
       "    <tr style=\"text-align: right;\">\n",
       "      <th></th>\n",
       "      <th>groups</th>\n",
       "      <th>sex</th>\n",
       "      <th>age</th>\n",
       "      <th>height</th>\n",
       "      <th>weight</th>\n",
       "      <th>arm</th>\n",
       "      <th>forearm</th>\n",
       "      <th>wrist</th>\n",
       "      <th>lowback</th>\n",
       "      <th>thigh</th>\n",
       "      <th>knee</th>\n",
       "      <th>ankle</th>\n",
       "      <th>somatotype</th>\n",
       "      <th>ftu</th>\n",
       "      <th>bmi</th>\n",
       "    </tr>\n",
       "  </thead>\n",
       "  <tbody>\n",
       "    <tr>\n",
       "      <th>0</th>\n",
       "      <td>11-20</td>\n",
       "      <td>Female</td>\n",
       "      <td>21</td>\n",
       "      <td>158.0</td>\n",
       "      <td>49</td>\n",
       "      <td>24.0</td>\n",
       "      <td>21.5</td>\n",
       "      <td>14.0</td>\n",
       "      <td>66.0</td>\n",
       "      <td>45.0</td>\n",
       "      <td>33.0</td>\n",
       "      <td>23.0</td>\n",
       "      <td>11.29</td>\n",
       "      <td>2.6</td>\n",
       "      <td>19.63</td>\n",
       "    </tr>\n",
       "  </tbody>\n",
       "</table>\n",
       "</div>"
      ],
      "text/plain": [
       "  groups     sex  age  height  weight   arm  forearm  wrist  lowback  thigh  \\\n",
       "0  11-20  Female   21   158.0      49  24.0     21.5   14.0     66.0   45.0   \n",
       "\n",
       "   knee  ankle  somatotype  ftu    bmi  \n",
       "0  33.0   23.0       11.29  2.6  19.63  "
      ]
     },
     "execution_count": 19,
     "metadata": {},
     "output_type": "execute_result"
    }
   ],
   "source": [
    "#Calculating BMI\n",
    "ftu['bmi']=py.round(ftu['weight']/(ftu['height']/100)**2, 2)\n",
    "ftu.head(1)"
   ]
  },
  {
   "cell_type": "markdown",
   "metadata": {},
   "source": [
    "#### Checking for missing values and replacing with the mean"
   ]
  },
  {
   "cell_type": "code",
   "execution_count": 7,
   "metadata": {},
   "outputs": [
    {
     "data": {
      "text/plain": [
       "1"
      ]
     },
     "execution_count": 7,
     "metadata": {},
     "output_type": "execute_result"
    }
   ],
   "source": [
    "#Checking for total number of missing value/values\n",
    "ftu.isnull().sum().sum()       # so we have just 1 missing value."
   ]
  },
  {
   "cell_type": "code",
   "execution_count": 8,
   "metadata": {},
   "outputs": [
    {
     "data": {
      "text/plain": [
       "groups        0\n",
       "sex           0\n",
       "age           0\n",
       "height        0\n",
       "weight        0\n",
       "arm           0\n",
       "forearm       0\n",
       "wrist         0\n",
       "lowback       0\n",
       "thigh         0\n",
       "knee          0\n",
       "ankle         0\n",
       "somatotype    0\n",
       "ftu           1\n",
       "bmi           0\n",
       "dtype: int64"
      ]
     },
     "execution_count": 8,
     "metadata": {},
     "output_type": "execute_result"
    }
   ],
   "source": [
    "#Check for the column with missing value\n",
    "ftu.isnull().sum()  # so ftu column has just 1 missing value"
   ]
  },
  {
   "cell_type": "code",
   "execution_count": 46,
   "metadata": {},
   "outputs": [
    {
     "data": {
      "text/html": [
       "<div>\n",
       "<style scoped>\n",
       "    .dataframe tbody tr th:only-of-type {\n",
       "        vertical-align: middle;\n",
       "    }\n",
       "\n",
       "    .dataframe tbody tr th {\n",
       "        vertical-align: top;\n",
       "    }\n",
       "\n",
       "    .dataframe thead th {\n",
       "        text-align: right;\n",
       "    }\n",
       "</style>\n",
       "<table border=\"1\" class=\"dataframe\">\n",
       "  <thead>\n",
       "    <tr style=\"text-align: right;\">\n",
       "      <th></th>\n",
       "      <th>groups</th>\n",
       "      <th>sex</th>\n",
       "      <th>age</th>\n",
       "      <th>height</th>\n",
       "      <th>weight</th>\n",
       "      <th>arm</th>\n",
       "      <th>forearm</th>\n",
       "      <th>wrist</th>\n",
       "      <th>lowback</th>\n",
       "      <th>thigh</th>\n",
       "      <th>knee</th>\n",
       "      <th>ankle</th>\n",
       "      <th>somatotype</th>\n",
       "      <th>ftu</th>\n",
       "      <th>bmi</th>\n",
       "    </tr>\n",
       "  </thead>\n",
       "  <tbody>\n",
       "    <tr>\n",
       "      <th>80</th>\n",
       "      <td>11-20</td>\n",
       "      <td>Male</td>\n",
       "      <td>17</td>\n",
       "      <td>172.0</td>\n",
       "      <td>53</td>\n",
       "      <td>23.5</td>\n",
       "      <td>23.5</td>\n",
       "      <td>16.0</td>\n",
       "      <td>65.9</td>\n",
       "      <td>39.0</td>\n",
       "      <td>36.0</td>\n",
       "      <td>22.5</td>\n",
       "      <td>11.75</td>\n",
       "      <td>NaN</td>\n",
       "      <td>17.92</td>\n",
       "    </tr>\n",
       "  </tbody>\n",
       "</table>\n",
       "</div>"
      ],
      "text/plain": [
       "   groups   sex  age  height  weight   arm  forearm  wrist  lowback  thigh  \\\n",
       "80  11-20  Male   17   172.0      53  23.5     23.5   16.0     65.9   39.0   \n",
       "\n",
       "    knee  ankle  somatotype  ftu    bmi  \n",
       "80  36.0   22.5       11.75  NaN  17.92  "
      ]
     },
     "execution_count": 46,
     "metadata": {},
     "output_type": "execute_result"
    }
   ],
   "source": [
    "#Checking for the exact row/index from ftun column which has the missing value from the entire project\n",
    "ftu[ftu.isnull().any(axis=1)]   # so row/index number 80, ftu column has a missing value (NaN)"
   ]
  },
  {
   "cell_type": "code",
   "execution_count": 47,
   "metadata": {},
   "outputs": [
    {
     "data": {
      "text/plain": [
       "2.5"
      ]
     },
     "execution_count": 47,
     "metadata": {},
     "output_type": "execute_result"
    }
   ],
   "source": [
    "# Checking the mean for ftu column\n",
    "py.round(ftu['ftu'].mean(), 1)  # The mean to is 2.5-- SO 2.5 will be replaced at row 80"
   ]
  },
  {
   "cell_type": "code",
   "execution_count": 3,
   "metadata": {},
   "outputs": [],
   "source": [
    "#Replacing missing value with mean\n",
    "ftu['ftu']=py.round(ftu['ftu'].fillna(ftu['ftu'].mean()), 1)"
   ]
  },
  {
   "cell_type": "code",
   "execution_count": 4,
   "metadata": {},
   "outputs": [
    {
     "data": {
      "text/plain": [
       "0"
      ]
     },
     "execution_count": 4,
     "metadata": {},
     "output_type": "execute_result"
    }
   ],
   "source": [
    "#Re-checking for missin values, checking the exact row if it has being replaced\n",
    "ftu.isnull().sum().sum()   # It was 1 before--- Now 0"
   ]
  },
  {
   "cell_type": "code",
   "execution_count": 5,
   "metadata": {},
   "outputs": [
    {
     "data": {
      "text/html": [
       "<div>\n",
       "<style scoped>\n",
       "    .dataframe tbody tr th:only-of-type {\n",
       "        vertical-align: middle;\n",
       "    }\n",
       "\n",
       "    .dataframe tbody tr th {\n",
       "        vertical-align: top;\n",
       "    }\n",
       "\n",
       "    .dataframe thead th {\n",
       "        text-align: right;\n",
       "    }\n",
       "</style>\n",
       "<table border=\"1\" class=\"dataframe\">\n",
       "  <thead>\n",
       "    <tr style=\"text-align: right;\">\n",
       "      <th></th>\n",
       "      <th>ftu</th>\n",
       "    </tr>\n",
       "  </thead>\n",
       "  <tbody>\n",
       "    <tr>\n",
       "      <th>79</th>\n",
       "      <td>1.8</td>\n",
       "    </tr>\n",
       "    <tr>\n",
       "      <th>80</th>\n",
       "      <td>2.5</td>\n",
       "    </tr>\n",
       "  </tbody>\n",
       "</table>\n",
       "</div>"
      ],
      "text/plain": [
       "    ftu\n",
       "79  1.8\n",
       "80  2.5"
      ]
     },
     "execution_count": 5,
     "metadata": {},
     "output_type": "execute_result"
    }
   ],
   "source": [
    "# Going through row 79 and 80 ti check if it has being replaced with 2.5\n",
    "ftu.loc[79:80, ['ftu']]    # Replaced -- SO we are good to go"
   ]
  },
  {
   "cell_type": "code",
   "execution_count": 51,
   "metadata": {},
   "outputs": [
    {
     "data": {
      "text/plain": [
       "0"
      ]
     },
     "execution_count": 51,
     "metadata": {},
     "output_type": "execute_result"
    }
   ],
   "source": [
    "# Re-checking for missing value\n",
    "ftu.isnull().sum().sum()  # Hallelujah- no more missing value- !!! GOOD TO GO"
   ]
  },
  {
   "cell_type": "markdown",
   "metadata": {},
   "source": [
    "### Gender distribution of each age group in percentage-- Objective 1- "
   ]
  },
  {
   "cell_type": "code",
   "execution_count": 15,
   "metadata": {},
   "outputs": [
    {
     "data": {
      "text/plain": [
       "groups  sex   \n",
       "11-20   Female    74\n",
       "        Male      26\n",
       "21-30   Female    52\n",
       "        Male      48\n",
       "31-40   Female    54\n",
       "        Male      46\n",
       "41-50   Female    56\n",
       "        Male      44\n",
       "51-60   Female    65\n",
       "        Male      35\n",
       "61-70   Male      60\n",
       "        Female    40\n",
       "Name: sex, dtype: int64"
      ]
     },
     "execution_count": 15,
     "metadata": {},
     "output_type": "execute_result"
    }
   ],
   "source": [
    "ftu.groupby('groups')['sex'].value_counts()"
   ]
  },
  {
   "cell_type": "markdown",
   "metadata": {},
   "source": [
    "### Mean values of age and selected anthropometric variables of the age groups -- Objective 2- "
   ]
  },
  {
   "cell_type": "code",
   "execution_count": 25,
   "metadata": {},
   "outputs": [
    {
     "data": {
      "text/html": [
       "<div>\n",
       "<style scoped>\n",
       "    .dataframe tbody tr th:only-of-type {\n",
       "        vertical-align: middle;\n",
       "    }\n",
       "\n",
       "    .dataframe tbody tr th {\n",
       "        vertical-align: top;\n",
       "    }\n",
       "\n",
       "    .dataframe thead th {\n",
       "        text-align: right;\n",
       "    }\n",
       "</style>\n",
       "<table border=\"1\" class=\"dataframe\">\n",
       "  <thead>\n",
       "    <tr style=\"text-align: right;\">\n",
       "      <th></th>\n",
       "      <th>age</th>\n",
       "      <th>height</th>\n",
       "      <th>weight</th>\n",
       "      <th>arm</th>\n",
       "      <th>forearm</th>\n",
       "      <th>wrist</th>\n",
       "      <th>lowback</th>\n",
       "      <th>thigh</th>\n",
       "      <th>knee</th>\n",
       "      <th>ankle</th>\n",
       "      <th>somatotype</th>\n",
       "      <th>bmi</th>\n",
       "      <th>ftu</th>\n",
       "    </tr>\n",
       "    <tr>\n",
       "      <th>groups</th>\n",
       "      <th></th>\n",
       "      <th></th>\n",
       "      <th></th>\n",
       "      <th></th>\n",
       "      <th></th>\n",
       "      <th></th>\n",
       "      <th></th>\n",
       "      <th></th>\n",
       "      <th></th>\n",
       "      <th></th>\n",
       "      <th></th>\n",
       "      <th></th>\n",
       "      <th></th>\n",
       "    </tr>\n",
       "  </thead>\n",
       "  <tbody>\n",
       "    <tr>\n",
       "      <th>11-20</th>\n",
       "      <td>17.8</td>\n",
       "      <td>162.1</td>\n",
       "      <td>54.1</td>\n",
       "      <td>24.6</td>\n",
       "      <td>23.2</td>\n",
       "      <td>15.6</td>\n",
       "      <td>71.8</td>\n",
       "      <td>44.9</td>\n",
       "      <td>34.9</td>\n",
       "      <td>22.8</td>\n",
       "      <td>11.0</td>\n",
       "      <td>20.7</td>\n",
       "      <td>2.5</td>\n",
       "    </tr>\n",
       "    <tr>\n",
       "      <th>21-30</th>\n",
       "      <td>24.0</td>\n",
       "      <td>167.7</td>\n",
       "      <td>61.9</td>\n",
       "      <td>30.1</td>\n",
       "      <td>25.3</td>\n",
       "      <td>16.7</td>\n",
       "      <td>76.4</td>\n",
       "      <td>49.0</td>\n",
       "      <td>35.9</td>\n",
       "      <td>23.8</td>\n",
       "      <td>10.9</td>\n",
       "      <td>22.1</td>\n",
       "      <td>2.7</td>\n",
       "    </tr>\n",
       "    <tr>\n",
       "      <th>31-40</th>\n",
       "      <td>35.0</td>\n",
       "      <td>164.3</td>\n",
       "      <td>64.1</td>\n",
       "      <td>27.7</td>\n",
       "      <td>25.1</td>\n",
       "      <td>15.7</td>\n",
       "      <td>80.9</td>\n",
       "      <td>49.0</td>\n",
       "      <td>36.8</td>\n",
       "      <td>22.6</td>\n",
       "      <td>11.0</td>\n",
       "      <td>23.8</td>\n",
       "      <td>2.4</td>\n",
       "    </tr>\n",
       "    <tr>\n",
       "      <th>41-50</th>\n",
       "      <td>45.3</td>\n",
       "      <td>166.2</td>\n",
       "      <td>71.0</td>\n",
       "      <td>29.5</td>\n",
       "      <td>26.1</td>\n",
       "      <td>16.2</td>\n",
       "      <td>85.6</td>\n",
       "      <td>50.4</td>\n",
       "      <td>37.5</td>\n",
       "      <td>22.8</td>\n",
       "      <td>10.8</td>\n",
       "      <td>25.8</td>\n",
       "      <td>2.4</td>\n",
       "    </tr>\n",
       "    <tr>\n",
       "      <th>51-60</th>\n",
       "      <td>55.1</td>\n",
       "      <td>162.4</td>\n",
       "      <td>68.2</td>\n",
       "      <td>28.6</td>\n",
       "      <td>27.2</td>\n",
       "      <td>16.0</td>\n",
       "      <td>87.2</td>\n",
       "      <td>52.2</td>\n",
       "      <td>36.3</td>\n",
       "      <td>22.4</td>\n",
       "      <td>10.7</td>\n",
       "      <td>25.8</td>\n",
       "      <td>2.4</td>\n",
       "    </tr>\n",
       "    <tr>\n",
       "      <th>61-70</th>\n",
       "      <td>64.4</td>\n",
       "      <td>164.2</td>\n",
       "      <td>66.3</td>\n",
       "      <td>28.0</td>\n",
       "      <td>25.3</td>\n",
       "      <td>16.1</td>\n",
       "      <td>83.0</td>\n",
       "      <td>52.8</td>\n",
       "      <td>36.1</td>\n",
       "      <td>22.4</td>\n",
       "      <td>10.8</td>\n",
       "      <td>24.7</td>\n",
       "      <td>2.4</td>\n",
       "    </tr>\n",
       "  </tbody>\n",
       "</table>\n",
       "</div>"
      ],
      "text/plain": [
       "         age  height  weight   arm  forearm  wrist  lowback  thigh  knee  \\\n",
       "groups                                                                     \n",
       "11-20   17.8   162.1    54.1  24.6     23.2   15.6     71.8   44.9  34.9   \n",
       "21-30   24.0   167.7    61.9  30.1     25.3   16.7     76.4   49.0  35.9   \n",
       "31-40   35.0   164.3    64.1  27.7     25.1   15.7     80.9   49.0  36.8   \n",
       "41-50   45.3   166.2    71.0  29.5     26.1   16.2     85.6   50.4  37.5   \n",
       "51-60   55.1   162.4    68.2  28.6     27.2   16.0     87.2   52.2  36.3   \n",
       "61-70   64.4   164.2    66.3  28.0     25.3   16.1     83.0   52.8  36.1   \n",
       "\n",
       "        ankle  somatotype   bmi  ftu  \n",
       "groups                                \n",
       "11-20    22.8        11.0  20.7  2.5  \n",
       "21-30    23.8        10.9  22.1  2.7  \n",
       "31-40    22.6        11.0  23.8  2.4  \n",
       "41-50    22.8        10.8  25.8  2.4  \n",
       "51-60    22.4        10.7  25.8  2.4  \n",
       "61-70    22.4        10.8  24.7  2.4  "
      ]
     },
     "execution_count": 25,
     "metadata": {},
     "output_type": "execute_result"
    }
   ],
   "source": [
    "all_columns=['age','height', 'weight', 'arm', 'forearm', 'wrist', 'lowback', 'thigh', 'knee', \n",
    "             'ankle', 'somatotype','bmi', 'ftu']\n",
    "mean_all_groups=ftu.groupby('groups')[all_columns].mean()\n",
    "py.round(mean_all_groups, 1)    # NB- All anthropemetric variables are in centimeters"
   ]
  },
  {
   "cell_type": "markdown",
   "metadata": {},
   "source": [
    "### Comparison of ftu, girth measurements for different  age groups-- By using ANOVA test -- Objective 3"
   ]
  },
  {
   "cell_type": "code",
   "execution_count": 52,
   "metadata": {},
   "outputs": [
    {
     "name": "stdout",
     "output_type": "stream",
     "text": [
      "t-Statistics= 15.39\n",
      "p-value= 0.000\n",
      "Verdict : Reject the null hypothesis- there is difference\n"
     ]
    }
   ],
   "source": [
    "#Getting values from categorical variables for the 6 age groups--- FTU\n",
    "test1=ftu[ftu['groups']== '11-20'].ftu\n",
    "test2=ftu[ftu['groups']== '21-30'].ftu\n",
    "test3=ftu[ftu['groups']== '31-40'].ftu\n",
    "test4=ftu[ftu['groups']== '41-50'].ftu\n",
    "test5=ftu[ftu['groups']== '51-60'].ftu\n",
    "test6=ftu[ftu['groups']== '61-70'].ftu\n",
    "def anova(test1,test2,test3,test4,test5,test6,alpha=0.05):\n",
    "    t,p=stats.f_oneway(test1,test2,test3,test4,test5,test6)\n",
    "    print ('t-Statistics= %.2f' % t)\n",
    "    print ('p-value= %.3f' %p)\n",
    "    if p > alpha:\n",
    "        print ('Verdict: Accept the null hypothesis- there is no difference')\n",
    "    if p <=alpha:\n",
    "        print ('Verdict : Reject the null hypothesis- there is difference')\n",
    "anova(test1,test2,test3,test4,test5,test6)"
   ]
  },
  {
   "cell_type": "markdown",
   "metadata": {},
   "source": [
    "### Boxplot to show how ftu is distributed acrosss all age groups"
   ]
  },
  {
   "cell_type": "code",
   "execution_count": 8,
   "metadata": {},
   "outputs": [
    {
     "data": {
      "image/png": "[encoded data removed]",
      "text/plain": [
       "<matplotlib.figure.Figure at 0x167485cdda0>"
      ]
     },
     "metadata": {},
     "output_type": "display_data"
    }
   ],
   "source": [
    "fig_dims=(10,6)\n",
    "fig,ax=plt.subplots(figsize=fig_dims)\n",
    "boxplot=sns.boxplot(x=ftu['groups'], y=ftu['ftu'], data=ftu, palette='colorblind', linewidth=2)\n",
    "#striplot=sns.stripplot(x=ftu['groups'], y=ftu['ftu'], data=ftu, jitter=True, split=True, linewidth=0.5)\n",
    "ax = boxplot.axes\n",
    "lines = ax.get_lines()\n",
    "categories = ax.get_xticks()\n",
    "for cat in categories:\n",
    "    y = round(lines[4+cat*6].get_ydata()[0],1)\n",
    "    ax.text(cat, y, f'{y}', ha='center', va='center', fontweight='bold', size=10,color='white',\n",
    "            bbox=dict(facecolor='#445A64'))\n",
    "boxplot.figure.tight_layout()\n",
    "plt.title('Box plot of Ftu across all age groups- with median displayed', weight='bold', size=17)\n",
    "plt.show()"
   ]
  },
  {
   "cell_type": "code",
   "execution_count": 15,
   "metadata": {},
   "outputs": [
    {
     "name": "stdout",
     "output_type": "stream",
     "text": [
      "t-Statistics= 2.19\n",
      "p-value= 0.054\n",
      "Verdict: Accept the null hypothesis- there is no difference\n"
     ]
    }
   ],
   "source": [
    "#ARM\n",
    "test1=ftu[ftu['groups']== '11-20'].arm\n",
    "test2=ftu[ftu['groups']== '21-30'].arm\n",
    "test3=ftu[ftu['groups']== '31-40'].arm\n",
    "test4=ftu[ftu['groups']== '41-50'].arm\n",
    "test5=ftu[ftu['groups']== '51-60'].arm\n",
    "test6=ftu[ftu['groups']== '61-70'].arm\n",
    "def anova(test1,test2,test3,test4,test5,test6,alpha=0.05):\n",
    "    t,p=stats.f_oneway(test1,test2,test3,test4,test5,test6)\n",
    "    print('t-Statistics= %.2f' % t)\n",
    "    print('p-value= %.3f' %p)\n",
    "    if p > alpha:\n",
    "        print ('Verdict: Accept the null hypothesis- there is no difference')\n",
    "    if p <=alpha:\n",
    "        print ('Verdict : Reject the null hypothesis- there is difference')\n",
    "anova(test1,test2,test3,test4,test5,test6)"
   ]
  },
  {
   "cell_type": "code",
   "execution_count": 24,
   "metadata": {},
   "outputs": [
    {
     "name": "stdout",
     "output_type": "stream",
     "text": [
      "t-Statistics= 2.41\n",
      "p-value= 0.036\n",
      "Verdict : Reject the null hypothesis- there is difference\n"
     ]
    }
   ],
   "source": [
    "#FOREARM\n",
    "test1=ftu[ftu['groups']== '11-20'].forearm\n",
    "test2=ftu[ftu['groups']== '21-30'].forearm\n",
    "test3=ftu[ftu['groups']== '31-40'].forearm\n",
    "test4=ftu[ftu['groups']== '41-50'].forearm\n",
    "test5=ftu[ftu['groups']== '51-60'].forearm\n",
    "test6=ftu[ftu['groups']== '61-70'].forearm\n",
    "def anova(test1,test2,test3,test4,test5,test6,alpha=0.05):\n",
    "    t,p=stats.f_oneway(test1,test2,test3,test4,test5,test6)\n",
    "    print ('t-Statistics= %.2f' % t)\n",
    "    print ('p-value= %.3f' %p)\n",
    "    if p > alpha:\n",
    "        print ('Verdict: Accept the null hypothesis- there is no difference')\n",
    "    if p <=alpha:\n",
    "        print ('Verdict : Reject the null hypothesis- there is difference')\n",
    "anova(test1,test2,test3,test4,test5,test6)"
   ]
  },
  {
   "cell_type": "code",
   "execution_count": 25,
   "metadata": {},
   "outputs": [
    {
     "name": "stdout",
     "output_type": "stream",
     "text": [
      "t-Statistics= 2.64\n",
      "p-value= 0.022\n",
      "Verdict : Reject the null hypothesis- there is difference\n"
     ]
    }
   ],
   "source": [
    "#WRIST\n",
    "test1=ftu[ftu['groups']== '11-20'].wrist\n",
    "test2=ftu[ftu['groups']== '21-30'].wrist\n",
    "test3=ftu[ftu['groups']== '31-40'].wrist\n",
    "test4=ftu[ftu['groups']== '41-50'].wrist\n",
    "test5=ftu[ftu['groups']== '51-60'].wrist\n",
    "test6=ftu[ftu['groups']== '61-70'].wrist\n",
    "def anova(test1,test2,test3,test4,test5,test6,alpha=0.05):\n",
    "    t,p=stats.f_oneway(test1,test2,test3,test4,test5,test6)\n",
    "    print ('t-Statistics= %.2f' % t)\n",
    "    print ('p-value= %.3f' %p)\n",
    "    if p > alpha:\n",
    "        print ('Verdict: Accept the null hypothesis- there is no difference')\n",
    "    if p <=alpha:\n",
    "        print ('Verdict : Reject the null hypothesis- there is difference')\n",
    "anova(test1,test2,test3,test4,test5,test6)"
   ]
  },
  {
   "cell_type": "code",
   "execution_count": 26,
   "metadata": {},
   "outputs": [
    {
     "name": "stdout",
     "output_type": "stream",
     "text": [
      "t-Statistics= 18.55\n",
      "p-value= 0.000\n",
      "Verdict : Reject the null hypothesis- there is difference\n"
     ]
    }
   ],
   "source": [
    "#LOWBACK\n",
    "test1=ftu[ftu['groups']== '11-20'].lowback\n",
    "test2=ftu[ftu['groups']== '21-30'].lowback\n",
    "test3=ftu[ftu['groups']== '31-40'].lowback\n",
    "test4=ftu[ftu['groups']== '41-50'].lowback\n",
    "test5=ftu[ftu['groups']== '51-60'].lowback\n",
    "test6=ftu[ftu['groups']== '61-70'].lowback\n",
    "def anova(test1,test2,test3,test4,test5,test6,alpha=0.05):\n",
    "    t,p=stats.f_oneway(test1,test2,test3,test4,test5,test6)\n",
    "    print ('t-Statistics= %.2f' % t)\n",
    "    print ('p-value= %.3f' %p)\n",
    "    if p > alpha:\n",
    "        print ('Verdict: Accept the null hypothesis- there is no difference')\n",
    "    if p <=alpha:\n",
    "        print ('Verdict : Reject the null hypothesis- there is difference')\n",
    "anova(test1,test2,test3,test4,test5,test6)"
   ]
  },
  {
   "cell_type": "code",
   "execution_count": 27,
   "metadata": {},
   "outputs": [
    {
     "name": "stdout",
     "output_type": "stream",
     "text": [
      "t-Statistics= 12.08\n",
      "p-value= 0.000\n",
      "Verdict : Reject the null hypothesis- there is difference\n"
     ]
    }
   ],
   "source": [
    "#THIGH\n",
    "test1=ftu[ftu['groups']== '11-20'].thigh\n",
    "test2=ftu[ftu['groups']== '21-30'].thigh\n",
    "test3=ftu[ftu['groups']== '31-40'].thigh\n",
    "test4=ftu[ftu['groups']== '41-50'].thigh\n",
    "test5=ftu[ftu['groups']== '51-60'].thigh\n",
    "test6=ftu[ftu['groups']== '61-70'].thigh\n",
    "def anova(test1,test2,test3,test4,test5,test6,alpha=0.05):\n",
    "    t,p=stats.f_oneway(test1,test2,test3,test4,test5,test6)\n",
    "    print ('t-Statistics= %.2f' % t)\n",
    "    print ('p-value= %.3f' %p)\n",
    "    if p > alpha:\n",
    "        print ('Verdict: Accept the null hypothesis- there is no difference')\n",
    "    if p <=alpha:\n",
    "        print ('Verdict : Reject the null hypothesis- there is difference')\n",
    "anova(test1,test2,test3,test4,test5,test6)"
   ]
  },
  {
   "cell_type": "code",
   "execution_count": 28,
   "metadata": {},
   "outputs": [
    {
     "name": "stdout",
     "output_type": "stream",
     "text": [
      "t-Statistics= 5.48\n",
      "p-value= 0.000\n",
      "Verdict : Reject the null hypothesis- there is difference\n"
     ]
    }
   ],
   "source": [
    "#KNEE\n",
    "test1=ftu[ftu['groups']== '11-20'].knee\n",
    "test2=ftu[ftu['groups']== '21-30'].knee\n",
    "test3=ftu[ftu['groups']== '31-40'].knee\n",
    "test4=ftu[ftu['groups']== '41-50'].knee\n",
    "test5=ftu[ftu['groups']== '51-60'].knee\n",
    "test6=ftu[ftu['groups']== '61-70'].knee\n",
    "def anova(test1,test2,test3,test4,test5,test6,alpha=0.05):\n",
    "    t,p=stats.f_oneway(test1,test2,test3,test4,test5,test6)\n",
    "    print ('t-Statistics= %.2f' % t)\n",
    "    print ('p-value= %.3f' %p)\n",
    "    if p > alpha:\n",
    "        print ('Verdict: Accept the null hypothesis- there is no difference')\n",
    "    if p <=alpha:\n",
    "        print ('Verdict : Reject the null hypothesis- there is difference')\n",
    "anova(test1,test2,test3,test4,test5,test6)"
   ]
  },
  {
   "cell_type": "code",
   "execution_count": 29,
   "metadata": {},
   "outputs": [
    {
     "name": "stdout",
     "output_type": "stream",
     "text": [
      "t-Statistics= 5.66\n",
      "p-value= 0.000\n",
      "Verdict : Reject the null hypothesis- there is difference\n"
     ]
    }
   ],
   "source": [
    "#ANKLE\n",
    "test1=ftu[ftu['groups']== '11-20'].ankle\n",
    "test2=ftu[ftu['groups']== '21-30'].ankle\n",
    "test3=ftu[ftu['groups']== '31-40'].ankle\n",
    "test4=ftu[ftu['groups']== '41-50'].ankle\n",
    "test5=ftu[ftu['groups']== '51-60'].ankle\n",
    "test6=ftu[ftu['groups']== '61-70'].ankle\n",
    "def anova(test1,test2,test3,test4,test5,test6,alpha=0.05):\n",
    "    t,p=stats.f_oneway(test1,test2,test3,test4,test5,test6)\n",
    "    print ('t-Statistics= %.2f' % t)\n",
    "    print ('p-value= %.3f' %p)\n",
    "    if p > alpha:\n",
    "        print ('Verdict: Accept the null hypothesis- there is no difference')\n",
    "    if p <=alpha:\n",
    "        print ('Verdict : Reject the null hypothesis- there is difference')\n",
    "anova(test1,test2,test3,test4,test5,test6)"
   ]
  },
  {
   "cell_type": "markdown",
   "metadata": {},
   "source": [
    "### Comparison of male and female ftu - using Unpaired/independent t-test -- Objective 4"
   ]
  },
  {
   "cell_type": "code",
   "execution_count": 42,
   "metadata": {},
   "outputs": [
    {
     "name": "stdout",
     "output_type": "stream",
     "text": [
      "t-Statistics= -8.749\n",
      "p-value= 0.000\n",
      "Verdict : Reject the null hypothesis- there is difference between the 2 paired sample means\n"
     ]
    }
   ],
   "source": [
    "def unpaired(test1,test2, alpha=0.05):\n",
    "    t, p=stats.ttest_ind(test1,test2, nan_policy='omit')\n",
    "    print ('t-Statistics= %.3f' % t)\n",
    "    print ('p-value= %.3f' %p)\n",
    "    if p > alpha:\n",
    "        print ('Verdict: Accept the null hypothesis- there is no difference between the 2 paired sample means')\n",
    "    if p <=alpha:\n",
    "        print ('Verdict : Reject the null hypothesis- there is difference between the 2 paired sample means')\n",
    "test1=ftu[ftu['sex']== 'Male'].ftu\n",
    "test1=ftu[ftu['sex']== 'Female'].ftu\n",
    "unpaired(test1,test2)"
   ]
  },
  {
   "cell_type": "markdown",
   "metadata": {},
   "source": [
    "### Correlation between all variables and ftu -- Objective 5"
   ]
  },
  {
   "cell_type": "code",
   "execution_count": 56,
   "metadata": {},
   "outputs": [
    {
     "data": {
      "image/png": "[encoded data removed]",
      "text/plain": [
       "<matplotlib.figure.Figure at 0x1ce7af25390>"
      ]
     },
     "metadata": {},
     "output_type": "display_data"
    }
   ],
   "source": [
    "plt.figure(figsize=(8, 8))\n",
    "heatmap = sns.heatmap(ftu.corr()[['ftu']].sort_values(by='ftu', ascending=False), vmin=-1, vmax=1, \n",
    "                      annot=True, cmap='tab10_r')      \n",
    "heatmap.set_title('Correlation between ftu and all variables', fontdict={'fontsize':18});"
   ]
  },
  {
   "cell_type": "markdown",
   "metadata": {},
   "source": [
    "### Result of regression analyses for fingertip unit"
   ]
  },
  {
   "cell_type": "code",
   "execution_count": 20,
   "metadata": {},
   "outputs": [
    {
     "data": {
      "text/html": [
       "<table class=\"simpletable\">\n",
       "<caption>OLS Regression Results</caption>\n",
       "<tr>\n",
       "  <th>Dep. Variable:</th>           <td>ftu</td>       <th>  R-squared:         </th> <td>   0.383</td>\n",
       "</tr>\n",
       "<tr>\n",
       "  <th>Model:</th>                   <td>OLS</td>       <th>  Adj. R-squared:    </th> <td>   0.371</td>\n",
       "</tr>\n",
       "<tr>\n",
       "  <th>Method:</th>             <td>Least Squares</td>  <th>  F-statistic:       </th> <td>   30.40</td>\n",
       "</tr>\n",
       "<tr>\n",
       "  <th>Date:</th>             <td>Fri, 27 Nov 2020</td> <th>  Prob (F-statistic):</th> <td>4.04e-54</td>\n",
       "</tr>\n",
       "<tr>\n",
       "  <th>Time:</th>                 <td>23:12:06</td>     <th>  Log-Likelihood:    </th> <td> -26.208</td>\n",
       "</tr>\n",
       "<tr>\n",
       "  <th>No. Observations:</th>      <td>   600</td>      <th>  AIC:               </th> <td>   78.42</td>\n",
       "</tr>\n",
       "<tr>\n",
       "  <th>Df Residuals:</th>          <td>   587</td>      <th>  BIC:               </th> <td>   135.6</td>\n",
       "</tr>\n",
       "<tr>\n",
       "  <th>Df Model:</th>              <td>    12</td>      <th>                     </th>     <td> </td>   \n",
       "</tr>\n",
       "<tr>\n",
       "  <th>Covariance Type:</th>      <td>nonrobust</td>    <th>                     </th>     <td> </td>   \n",
       "</tr>\n",
       "</table>\n",
       "<table class=\"simpletable\">\n",
       "<tr>\n",
       "       <td></td>         <th>coef</th>     <th>std err</th>      <th>t</th>      <th>P>|t|</th>  <th>[0.025</th>    <th>0.975]</th>  \n",
       "</tr>\n",
       "<tr>\n",
       "  <th>const</th>      <td>   -1.0753</td> <td>    0.955</td> <td>   -1.126</td> <td> 0.261</td> <td>   -2.952</td> <td>    0.801</td>\n",
       "</tr>\n",
       "<tr>\n",
       "  <th>age</th>        <td>   -0.0031</td> <td>    0.001</td> <td>   -4.426</td> <td> 0.000</td> <td>   -0.005</td> <td>   -0.002</td>\n",
       "</tr>\n",
       "<tr>\n",
       "  <th>height</th>     <td>    0.0240</td> <td>    0.006</td> <td>    4.247</td> <td> 0.000</td> <td>    0.013</td> <td>    0.035</td>\n",
       "</tr>\n",
       "<tr>\n",
       "  <th>weight</th>     <td>   -0.0159</td> <td>    0.007</td> <td>   -2.200</td> <td> 0.028</td> <td>   -0.030</td> <td>   -0.002</td>\n",
       "</tr>\n",
       "<tr>\n",
       "  <th>arm</th>        <td>    0.0014</td> <td>    0.001</td> <td>    1.612</td> <td> 0.108</td> <td>   -0.000</td> <td>    0.003</td>\n",
       "</tr>\n",
       "<tr>\n",
       "  <th>forearm</th>    <td>   -0.0008</td> <td>    0.001</td> <td>   -0.666</td> <td> 0.506</td> <td>   -0.003</td> <td>    0.002</td>\n",
       "</tr>\n",
       "<tr>\n",
       "  <th>wrist</th>      <td>   -0.0051</td> <td>    0.006</td> <td>   -0.816</td> <td> 0.415</td> <td>   -0.017</td> <td>    0.007</td>\n",
       "</tr>\n",
       "<tr>\n",
       "  <th>lowback</th>    <td>    0.0011</td> <td>    0.001</td> <td>    0.828</td> <td> 0.408</td> <td>   -0.001</td> <td>    0.004</td>\n",
       "</tr>\n",
       "<tr>\n",
       "  <th>thigh</th>      <td>    0.0026</td> <td>    0.001</td> <td>    1.818</td> <td> 0.070</td> <td>   -0.000</td> <td>    0.005</td>\n",
       "</tr>\n",
       "<tr>\n",
       "  <th>knee</th>       <td>   -0.0061</td> <td>    0.004</td> <td>   -1.553</td> <td> 0.121</td> <td>   -0.014</td> <td>    0.002</td>\n",
       "</tr>\n",
       "<tr>\n",
       "  <th>ankle</th>      <td>    0.0471</td> <td>    0.005</td> <td>    8.868</td> <td> 0.000</td> <td>    0.037</td> <td>    0.057</td>\n",
       "</tr>\n",
       "<tr>\n",
       "  <th>somatotype</th> <td>   -0.0844</td> <td>    0.017</td> <td>   -5.089</td> <td> 0.000</td> <td>   -0.117</td> <td>   -0.052</td>\n",
       "</tr>\n",
       "<tr>\n",
       "  <th>bmi</th>        <td>    0.0274</td> <td>    0.019</td> <td>    1.449</td> <td> 0.148</td> <td>   -0.010</td> <td>    0.065</td>\n",
       "</tr>\n",
       "</table>\n",
       "<table class=\"simpletable\">\n",
       "<tr>\n",
       "  <th>Omnibus:</th>       <td> 5.281</td> <th>  Durbin-Watson:     </th> <td>   1.783</td>\n",
       "</tr>\n",
       "<tr>\n",
       "  <th>Prob(Omnibus):</th> <td> 0.071</td> <th>  Jarque-Bera (JB):  </th> <td>   5.531</td>\n",
       "</tr>\n",
       "<tr>\n",
       "  <th>Skew:</th>          <td>-0.155</td> <th>  Prob(JB):          </th> <td>  0.0629</td>\n",
       "</tr>\n",
       "<tr>\n",
       "  <th>Kurtosis:</th>      <td> 3.354</td> <th>  Cond. No.          </th> <td>1.97e+04</td>\n",
       "</tr>\n",
       "</table>"
      ],
      "text/plain": [
       "<class 'statsmodels.iolib.summary.Summary'>\n",
       "\"\"\"\n",
       "                            OLS Regression Results                            \n",
       "==============================================================================\n",
       "Dep. Variable:                    ftu   R-squared:                       0.383\n",
       "Model:                            OLS   Adj. R-squared:                  0.371\n",
       "Method:                 Least Squares   F-statistic:                     30.40\n",
       "Date:                Fri, 27 Nov 2020   Prob (F-statistic):           4.04e-54\n",
       "Time:                        23:12:06   Log-Likelihood:                -26.208\n",
       "No. Observations:                 600   AIC:                             78.42\n",
       "Df Residuals:                     587   BIC:                             135.6\n",
       "Df Model:                          12                                         \n",
       "Covariance Type:            nonrobust                                         \n",
       "==============================================================================\n",
       "                 coef    std err          t      P>|t|      [0.025      0.975]\n",
       "------------------------------------------------------------------------------\n",
       "const         -1.0753      0.955     -1.126      0.261      -2.952       0.801\n",
       "age           -0.0031      0.001     -4.426      0.000      -0.005      -0.002\n",
       "height         0.0240      0.006      4.247      0.000       0.013       0.035\n",
       "weight        -0.0159      0.007     -2.200      0.028      -0.030      -0.002\n",
       "arm            0.0014      0.001      1.612      0.108      -0.000       0.003\n",
       "forearm       -0.0008      0.001     -0.666      0.506      -0.003       0.002\n",
       "wrist         -0.0051      0.006     -0.816      0.415      -0.017       0.007\n",
       "lowback        0.0011      0.001      0.828      0.408      -0.001       0.004\n",
       "thigh          0.0026      0.001      1.818      0.070      -0.000       0.005\n",
       "knee          -0.0061      0.004     -1.553      0.121      -0.014       0.002\n",
       "ankle          0.0471      0.005      8.868      0.000       0.037       0.057\n",
       "somatotype    -0.0844      0.017     -5.089      0.000      -0.117      -0.052\n",
       "bmi            0.0274      0.019      1.449      0.148      -0.010       0.065\n",
       "==============================================================================\n",
       "Omnibus:                        5.281   Durbin-Watson:                   1.783\n",
       "Prob(Omnibus):                  0.071   Jarque-Bera (JB):                5.531\n",
       "Skew:                          -0.155   Prob(JB):                       0.0629\n",
       "Kurtosis:                       3.354   Cond. No.                     1.97e+04\n",
       "==============================================================================\n",
       "\n",
       "Warnings:\n",
       "[1] Standard Errors assume that the covariance matrix of the errors is correctly specified.\n",
       "[2] The condition number is large, 1.97e+04. This might indicate that there are\n",
       "strong multicollinearity or other numerical problems.\n",
       "\"\"\""
      ]
     },
     "execution_count": 20,
     "metadata": {},
     "output_type": "execute_result"
    }
   ],
   "source": [
    "#Regression analysis using statsmodels OLS method\n",
    "X=ftu[['age','height', 'weight', 'arm', 'forearm', 'wrist', 'lowback', 'thigh', 'knee', 'ankle', 'somatotype','bmi']]\n",
    "y=ftu['ftu']     # The coefficient of determination-Rsquare=38.3%\n",
    "X=sm.add_constant(X) #Our indept vriables explain 38.3% of the variability of our dept variable\n",
    "result=sm.OLS(y,X).fit() # F-stats from ANova-30.40- significant <0.05\n",
    "result.summary()"
   ]
  },
  {
   "cell_type": "code",
   "execution_count": 21,
   "metadata": {},
   "outputs": [
    {
     "data": {
      "text/plain": [
       "0    2.480241\n",
       "1    2.291220\n",
       "dtype: float64"
      ]
     },
     "execution_count": 21,
     "metadata": {},
     "output_type": "execute_result"
    }
   ],
   "source": [
    "# Making predictions from the independent variables \n",
    "y_pred=result.predict(X)\n",
    "y_pred.head(2)    #  showing the first 2 rows for predicted y"
   ]
  },
  {
   "cell_type": "code",
   "execution_count": 22,
   "metadata": {},
   "outputs": [
    {
     "data": {
      "text/html": [
       "<div>\n",
       "<style scoped>\n",
       "    .dataframe tbody tr th:only-of-type {\n",
       "        vertical-align: middle;\n",
       "    }\n",
       "\n",
       "    .dataframe tbody tr th {\n",
       "        vertical-align: top;\n",
       "    }\n",
       "\n",
       "    .dataframe thead th {\n",
       "        text-align: right;\n",
       "    }\n",
       "</style>\n",
       "<table border=\"1\" class=\"dataframe\">\n",
       "  <thead>\n",
       "    <tr style=\"text-align: right;\">\n",
       "      <th></th>\n",
       "      <th>Actual ftu</th>\n",
       "      <th>Predicted ftu</th>\n",
       "    </tr>\n",
       "  </thead>\n",
       "  <tbody>\n",
       "    <tr>\n",
       "      <th>0</th>\n",
       "      <td>2.6</td>\n",
       "      <td>2.480241</td>\n",
       "    </tr>\n",
       "    <tr>\n",
       "      <th>1</th>\n",
       "      <td>2.6</td>\n",
       "      <td>2.291220</td>\n",
       "    </tr>\n",
       "    <tr>\n",
       "      <th>2</th>\n",
       "      <td>2.6</td>\n",
       "      <td>2.532858</td>\n",
       "    </tr>\n",
       "    <tr>\n",
       "      <th>3</th>\n",
       "      <td>2.5</td>\n",
       "      <td>2.408065</td>\n",
       "    </tr>\n",
       "    <tr>\n",
       "      <th>4</th>\n",
       "      <td>2.7</td>\n",
       "      <td>2.426975</td>\n",
       "    </tr>\n",
       "    <tr>\n",
       "      <th>5</th>\n",
       "      <td>2.6</td>\n",
       "      <td>2.679879</td>\n",
       "    </tr>\n",
       "    <tr>\n",
       "      <th>6</th>\n",
       "      <td>2.7</td>\n",
       "      <td>2.560192</td>\n",
       "    </tr>\n",
       "    <tr>\n",
       "      <th>7</th>\n",
       "      <td>2.8</td>\n",
       "      <td>2.834462</td>\n",
       "    </tr>\n",
       "    <tr>\n",
       "      <th>8</th>\n",
       "      <td>2.7</td>\n",
       "      <td>2.501279</td>\n",
       "    </tr>\n",
       "    <tr>\n",
       "      <th>9</th>\n",
       "      <td>2.9</td>\n",
       "      <td>2.514976</td>\n",
       "    </tr>\n",
       "    <tr>\n",
       "      <th>10</th>\n",
       "      <td>2.9</td>\n",
       "      <td>2.725506</td>\n",
       "    </tr>\n",
       "  </tbody>\n",
       "</table>\n",
       "</div>"
      ],
      "text/plain": [
       "    Actual ftu  Predicted ftu\n",
       "0          2.6       2.480241\n",
       "1          2.6       2.291220\n",
       "2          2.6       2.532858\n",
       "3          2.5       2.408065\n",
       "4          2.7       2.426975\n",
       "5          2.6       2.679879\n",
       "6          2.7       2.560192\n",
       "7          2.8       2.834462\n",
       "8          2.7       2.501279\n",
       "9          2.9       2.514976\n",
       "10         2.9       2.725506"
      ]
     },
     "execution_count": 22,
     "metadata": {},
     "output_type": "execute_result"
    }
   ],
   "source": [
    "#Creating a dataframe for actual ftu from data and predicted ftu and displaying top 10 rows\n",
    "df=pd.DataFrame({'Actual ftu':y, 'Predicted ftu':y_pred})\n",
    "df.head(11)"
   ]
  },
  {
   "cell_type": "code",
   "execution_count": 23,
   "metadata": {},
   "outputs": [
    {
     "data": {
      "image/png": "[encoded data removed]",
      "text/plain": [
       "<matplotlib.figure.Figure at 0x16749336a20>"
      ]
     },
     "metadata": {},
     "output_type": "display_data"
    }
   ],
   "source": [
    "#We could also plot the barchart for predicted and actual ftu for the first 25 rows\n",
    "df.head(25).plot(kind='bar', figsize=(15,5))\n",
    "plt.ylim(0,3.1)\n",
    "plt.legend(loc=[1.02, 0.7], fontsize='large')\n",
    "plt.show()"
   ]
  },
  {
   "cell_type": "code",
   "execution_count": 74,
   "metadata": {},
   "outputs": [
    {
     "data": {
      "image/png": "[encoded data removed]",
      "text/plain": [
       "<matplotlib.figure.Figure at 0x1ce7c17c438>"
      ]
     },
     "metadata": {},
     "output_type": "display_data"
    }
   ],
   "source": [
    "#We could also plot the barchart for predicted and actual ftu for the 25 rows from the tail\n",
    "df.tail(25).plot(kind='bar', figsize=(15,5))\n",
    "plt.ylim(0,3.5)\n",
    "plt.legend(loc=[1.02, 0.7], fontsize='large')\n",
    "plt.show()"
   ]
  },
  {
   "cell_type": "code",
   "execution_count": 24,
   "metadata": {},
   "outputs": [
    {
     "name": "stdout",
     "output_type": "stream",
     "text": [
      "Mean Absolute Error (MAE): 0.19903444577973947\n",
      "Mean Squared Error (MSE): 0.0638947862480611\n",
      "Root Mean Squared Error (RMSE): 0.25277418034297156\n"
     ]
    }
   ],
   "source": [
    "#Getting the errors for our regression analysis\n",
    "mse=mse(y, y_pred)\n",
    "rmse=py.sqrt(mse)\n",
    "mae=mean_absolute_error(y,y_pred)\n",
    "print('Mean Absolute Error (MAE): {}'.format(mae))\n",
    "print('Mean Squared Error (MSE): {}'.format(mse))\n",
    "print('Root Mean Squared Error (RMSE): {}'.format(rmse))"
   ]
  },
  {
   "cell_type": "code",
   "execution_count": null,
   "metadata": {},
   "outputs": [],
   "source": []
  }
 ],
 "metadata": {
  "kernelspec": {
   "display_name": "Python 3",
   "language": "python",
   "name": "python3"
  },
  "language_info": {
   "codemirror_mode": {
    "name": "ipython",
    "version": 3
   },
   "file_extension": ".py",
   "mimetype": "text/x-python",
   "name": "python",
   "nbconvert_exporter": "python",
   "pygments_lexer": "ipython3",
   "version": "3.6.4"
  }
 },
 "nbformat": 4,
 "nbformat_minor": 2
}
